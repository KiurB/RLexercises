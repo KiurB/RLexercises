{
 "cells": [
  {
   "cell_type": "code",
   "execution_count": null,
   "metadata": {},
   "outputs": [],
   "source": [
    "import numpy as np\n",
    "from numba import jit\n",
    "\n",
    "params = np.empty(shape=(10,2))\n",
    "params[:,0] = np.random.randn(10)\n",
    "params[:,1] = 5\n",
    "params"
   ]
  },
  {
   "cell_type": "code",
   "execution_count": 149,
   "metadata": {},
   "outputs": [],
   "source": [
    "@jit(nopython=True)\n",
    "def g_policy(array,k):\n",
    "    mask = array==np.max(array)\n",
    "    seq = np.arange(k)[mask]\n",
    "    return np.random.choice(seq,1)\n",
    "\n",
    "@jit(nopython=True)\n",
    "def e_policy(array,k,e):\n",
    "\n",
    "    flag = np.random.choice((True,False),p=(1-e,e))\n",
    "\n",
    "    if flag:\n",
    "        mask = array==np.max(array)\n",
    "        seq = np.arange(k)[mask]\n",
    "        return np.random.choice(seq,1)\n",
    "    else:\n",
    "        seq = np.arange(k)\n",
    "        return np.random.choice(seq,1)\n",
    "    \n",
    "\n",
    "class kBandit():\n",
    "\n",
    "    def __init__(self,params,n,k,policy,**kwargs):\n",
    "        self.p_reward = params\n",
    "        self.policy = policy\n",
    "        self.steps = n\n",
    "        self.k = k\n",
    "        self.kwargs = kwargs\n",
    "        self.value = np.zeros(self.k)\n",
    "        self.visits = np.ones(self.k)\n",
    "\n",
    "    def action(self):\n",
    "        return self.policy(self.value,self.k,**self.kwargs)\n",
    "\n",
    "    def reward(self,i):\n",
    "        return self.p_reward[i,1]*np.random.randn()+self.p_reward[i,0]\n",
    "\n",
    "    def update_step(self,reward,i):\n",
    "        self.value[i] = self.value[i]+(reward-self.value[i])/self.visits[i]\n",
    "        self.visits[i] += 1\n",
    "    \n",
    "    def simulation(self):\n",
    "        sim = np.empty(shape=self.steps)\n",
    "        act = np.empty(shape=self.steps)\n",
    "        for j in range(self.steps):\n",
    "            i = self.action()\n",
    "            act[j] = i\n",
    "            reward = self.reward(i)\n",
    "            sim[j] = reward\n",
    "            self.update_step(reward,i)\n",
    "        value = self.value\n",
    "        self.value = np.zeros(self.k)\n",
    "        self.visits = np.ones(self.k)\n",
    "        return act,sim,value"
   ]
  },
  {
   "cell_type": "code",
   "execution_count": 150,
   "metadata": {},
   "outputs": [],
   "source": [
    "it = 3000\n",
    "k = 1000\n",
    "tenbandit = kBandit(params,k,10,g_policy)\n",
    "\n",
    "sense_matrix = np.empty(shape=(it,k))\n",
    "for p in range(it):\n",
    "    act,_,value = tenbandit.simulation()\n",
    "    sense_matrix[p,:] = (act==np.argmax(params[:,0]))\n",
    "\n",
    "ts_greedy = sense_matrix.sum(axis=0)/it"
   ]
  },
  {
   "cell_type": "code",
   "execution_count": 140,
   "metadata": {},
   "outputs": [
    {
     "ename": "TypingError",
     "evalue": "Failed in nopython mode pipeline (step: nopython frontend)\n\u001b[1m\u001b[1m\u001b[1mNo implementation of function Function(<built-in method choice of numpy.random.mtrand.RandomState object at 0x0000027C37E3A640>) found for signature:\n \n >>> choice(Tuple(Literal[bool](True), Literal[bool](False)), p=UniTuple(float64 x 2))\n \nThere are 2 candidate implementations:\n\u001b[1m  - Of which 2 did not match due to:\n  Overload in function 'choice': File: numba\\cpython\\randomimpl.py: Line 1920.\n    With argument(s): '(UniTuple(bool x 2), p=UniTuple(float64 x 2))':\u001b[0m\n\u001b[1m   Rejected as the implementation raised a specific error:\n     TypingError: \u001b[1mgot an unexpected keyword argument 'p'\u001b[0m\u001b[0m\n  raised from c:\\Users\\rober\\AppData\\Local\\Programs\\Python\\Python310\\lib\\site-packages\\numba\\core\\typing\\templates.py:784\n\u001b[0m\n\u001b[0m\u001b[1mDuring: resolving callee type: Function(<built-in method choice of numpy.random.mtrand.RandomState object at 0x0000027C37E3A640>)\u001b[0m\n\u001b[0m\u001b[1mDuring: typing of call at C:\\Users\\rober\\AppData\\Local\\Temp\\ipykernel_27300\\2251086269.py (10)\n\u001b[0m\n\u001b[1m\nFile \"..\\..\\AppData\\Local\\Temp\\ipykernel_27300\\2251086269.py\", line 10:\u001b[0m\n\u001b[1m<source missing, REPL/exec in use?>\u001b[0m\n",
     "output_type": "error",
     "traceback": [
      "\u001b[1;31m---------------------------------------------------------------------------\u001b[0m",
      "\u001b[1;31mTypingError\u001b[0m                               Traceback (most recent call last)",
      "Input \u001b[1;32mIn [140]\u001b[0m, in \u001b[0;36m<cell line: 6>\u001b[1;34m()\u001b[0m\n\u001b[0;32m      5\u001b[0m sense_matrix \u001b[38;5;241m=\u001b[39m np\u001b[38;5;241m.\u001b[39mempty(shape\u001b[38;5;241m=\u001b[39m(it,k))\n\u001b[0;32m      6\u001b[0m \u001b[38;5;28;01mfor\u001b[39;00m p \u001b[38;5;129;01min\u001b[39;00m \u001b[38;5;28mrange\u001b[39m(it):\n\u001b[1;32m----> 7\u001b[0m     act,_,value \u001b[38;5;241m=\u001b[39m \u001b[43mtenbandit\u001b[49m\u001b[38;5;241;43m.\u001b[39;49m\u001b[43msimulation\u001b[49m\u001b[43m(\u001b[49m\u001b[43m)\u001b[49m\n\u001b[0;32m      8\u001b[0m     sense_matrix[p,:] \u001b[38;5;241m=\u001b[39m (act\u001b[38;5;241m==\u001b[39mnp\u001b[38;5;241m.\u001b[39margmax(params[:,\u001b[38;5;241m0\u001b[39m]))\n\u001b[0;32m     10\u001b[0m ts_e01 \u001b[38;5;241m=\u001b[39m sense_matrix\u001b[38;5;241m.\u001b[39msum(axis\u001b[38;5;241m=\u001b[39m\u001b[38;5;241m0\u001b[39m)\u001b[38;5;241m/\u001b[39mit\n",
      "Input \u001b[1;32mIn [136]\u001b[0m, in \u001b[0;36mkBandit.simulation\u001b[1;34m(self)\u001b[0m\n\u001b[0;32m     44\u001b[0m act \u001b[38;5;241m=\u001b[39m np\u001b[38;5;241m.\u001b[39mempty(shape\u001b[38;5;241m=\u001b[39m\u001b[38;5;28mself\u001b[39m\u001b[38;5;241m.\u001b[39msteps)\n\u001b[0;32m     45\u001b[0m \u001b[38;5;28;01mfor\u001b[39;00m j \u001b[38;5;129;01min\u001b[39;00m \u001b[38;5;28mrange\u001b[39m(\u001b[38;5;28mself\u001b[39m\u001b[38;5;241m.\u001b[39msteps):\n\u001b[1;32m---> 46\u001b[0m     i \u001b[38;5;241m=\u001b[39m \u001b[38;5;28;43mself\u001b[39;49m\u001b[38;5;241;43m.\u001b[39;49m\u001b[43maction\u001b[49m\u001b[43m(\u001b[49m\u001b[43m)\u001b[49m\n\u001b[0;32m     47\u001b[0m     act[j] \u001b[38;5;241m=\u001b[39m i\n\u001b[0;32m     48\u001b[0m     reward \u001b[38;5;241m=\u001b[39m \u001b[38;5;28mself\u001b[39m\u001b[38;5;241m.\u001b[39mreward(i)\n",
      "Input \u001b[1;32mIn [136]\u001b[0m, in \u001b[0;36mkBandit.action\u001b[1;34m(self)\u001b[0m\n\u001b[0;32m     32\u001b[0m \u001b[38;5;28;01mdef\u001b[39;00m \u001b[38;5;21maction\u001b[39m(\u001b[38;5;28mself\u001b[39m):\n\u001b[1;32m---> 33\u001b[0m     \u001b[38;5;28;01mreturn\u001b[39;00m \u001b[38;5;28;43mself\u001b[39;49m\u001b[38;5;241;43m.\u001b[39;49m\u001b[43mpolicy\u001b[49m\u001b[43m(\u001b[49m\u001b[38;5;28;43mself\u001b[39;49m\u001b[38;5;241;43m.\u001b[39;49m\u001b[43mvalue\u001b[49m\u001b[43m,\u001b[49m\u001b[38;5;28;43mself\u001b[39;49m\u001b[38;5;241;43m.\u001b[39;49m\u001b[43mk\u001b[49m\u001b[43m,\u001b[49m\u001b[38;5;241;43m*\u001b[39;49m\u001b[38;5;28;43mself\u001b[39;49m\u001b[38;5;241;43m.\u001b[39;49m\u001b[43margs\u001b[49m\u001b[43m)\u001b[49m\n",
      "File \u001b[1;32mc:\\Users\\rober\\AppData\\Local\\Programs\\Python\\Python310\\lib\\site-packages\\numba\\core\\dispatcher.py:468\u001b[0m, in \u001b[0;36m_DispatcherBase._compile_for_args\u001b[1;34m(self, *args, **kws)\u001b[0m\n\u001b[0;32m    464\u001b[0m         msg \u001b[38;5;241m=\u001b[39m (\u001b[38;5;124mf\u001b[39m\u001b[38;5;124m\"\u001b[39m\u001b[38;5;132;01m{\u001b[39;00m\u001b[38;5;28mstr\u001b[39m(e)\u001b[38;5;241m.\u001b[39mrstrip()\u001b[38;5;132;01m}\u001b[39;00m\u001b[38;5;124m \u001b[39m\u001b[38;5;130;01m\\n\u001b[39;00m\u001b[38;5;130;01m\\n\u001b[39;00m\u001b[38;5;124mThis error may have been caused \u001b[39m\u001b[38;5;124m\"\u001b[39m\n\u001b[0;32m    465\u001b[0m                \u001b[38;5;124mf\u001b[39m\u001b[38;5;124m\"\u001b[39m\u001b[38;5;124mby the following argument(s):\u001b[39m\u001b[38;5;130;01m\\n\u001b[39;00m\u001b[38;5;132;01m{\u001b[39;00margs_str\u001b[38;5;132;01m}\u001b[39;00m\u001b[38;5;130;01m\\n\u001b[39;00m\u001b[38;5;124m\"\u001b[39m)\n\u001b[0;32m    466\u001b[0m         e\u001b[38;5;241m.\u001b[39mpatch_message(msg)\n\u001b[1;32m--> 468\u001b[0m     \u001b[43merror_rewrite\u001b[49m\u001b[43m(\u001b[49m\u001b[43me\u001b[49m\u001b[43m,\u001b[49m\u001b[43m \u001b[49m\u001b[38;5;124;43m'\u001b[39;49m\u001b[38;5;124;43mtyping\u001b[39;49m\u001b[38;5;124;43m'\u001b[39;49m\u001b[43m)\u001b[49m\n\u001b[0;32m    469\u001b[0m \u001b[38;5;28;01mexcept\u001b[39;00m errors\u001b[38;5;241m.\u001b[39mUnsupportedError \u001b[38;5;28;01mas\u001b[39;00m e:\n\u001b[0;32m    470\u001b[0m     \u001b[38;5;66;03m# Something unsupported is present in the user code, add help info\u001b[39;00m\n\u001b[0;32m    471\u001b[0m     error_rewrite(e, \u001b[38;5;124m'\u001b[39m\u001b[38;5;124munsupported_error\u001b[39m\u001b[38;5;124m'\u001b[39m)\n",
      "File \u001b[1;32mc:\\Users\\rober\\AppData\\Local\\Programs\\Python\\Python310\\lib\\site-packages\\numba\\core\\dispatcher.py:409\u001b[0m, in \u001b[0;36m_DispatcherBase._compile_for_args.<locals>.error_rewrite\u001b[1;34m(e, issue_type)\u001b[0m\n\u001b[0;32m    407\u001b[0m     \u001b[38;5;28;01mraise\u001b[39;00m e\n\u001b[0;32m    408\u001b[0m \u001b[38;5;28;01melse\u001b[39;00m:\n\u001b[1;32m--> 409\u001b[0m     \u001b[38;5;28;01mraise\u001b[39;00m e\u001b[38;5;241m.\u001b[39mwith_traceback(\u001b[38;5;28;01mNone\u001b[39;00m)\n",
      "\u001b[1;31mTypingError\u001b[0m: Failed in nopython mode pipeline (step: nopython frontend)\n\u001b[1m\u001b[1m\u001b[1mNo implementation of function Function(<built-in method choice of numpy.random.mtrand.RandomState object at 0x0000027C37E3A640>) found for signature:\n \n >>> choice(Tuple(Literal[bool](True), Literal[bool](False)), p=UniTuple(float64 x 2))\n \nThere are 2 candidate implementations:\n\u001b[1m  - Of which 2 did not match due to:\n  Overload in function 'choice': File: numba\\cpython\\randomimpl.py: Line 1920.\n    With argument(s): '(UniTuple(bool x 2), p=UniTuple(float64 x 2))':\u001b[0m\n\u001b[1m   Rejected as the implementation raised a specific error:\n     TypingError: \u001b[1mgot an unexpected keyword argument 'p'\u001b[0m\u001b[0m\n  raised from c:\\Users\\rober\\AppData\\Local\\Programs\\Python\\Python310\\lib\\site-packages\\numba\\core\\typing\\templates.py:784\n\u001b[0m\n\u001b[0m\u001b[1mDuring: resolving callee type: Function(<built-in method choice of numpy.random.mtrand.RandomState object at 0x0000027C37E3A640>)\u001b[0m\n\u001b[0m\u001b[1mDuring: typing of call at C:\\Users\\rober\\AppData\\Local\\Temp\\ipykernel_27300\\2251086269.py (10)\n\u001b[0m\n\u001b[1m\nFile \"..\\..\\AppData\\Local\\Temp\\ipykernel_27300\\2251086269.py\", line 10:\u001b[0m\n\u001b[1m<source missing, REPL/exec in use?>\u001b[0m\n"
     ]
    }
   ],
   "source": [
    "it = 3000\n",
    "k = 1000\n",
    "tenbandit = kBandit(params,k,10,e_policy,0.05)\n",
    "\n",
    "sense_matrix = np.empty(shape=(it,k))\n",
    "for p in range(it):\n",
    "    act,_,value = tenbandit.simulation()\n",
    "    sense_matrix[p,:] = (act==np.argmax(params[:,0]))\n",
    "\n",
    "ts_e01 = sense_matrix.sum(axis=0)/it"
   ]
  },
  {
   "cell_type": "code",
   "execution_count": 146,
   "metadata": {},
   "outputs": [],
   "source": [
    "tenbandit = kBandit(params,k,10,e_policy,0.05)"
   ]
  },
  {
   "cell_type": "code",
   "execution_count": null,
   "metadata": {},
   "outputs": [],
   "source": [
    "tenbandit"
   ]
  }
 ],
 "metadata": {
  "kernelspec": {
   "display_name": "Python 3",
   "language": "python",
   "name": "python3"
  },
  "language_info": {
   "codemirror_mode": {
    "name": "ipython",
    "version": 3
   },
   "file_extension": ".py",
   "mimetype": "text/x-python",
   "name": "python",
   "nbconvert_exporter": "python",
   "pygments_lexer": "ipython3",
   "version": "3.10.4"
  }
 },
 "nbformat": 4,
 "nbformat_minor": 2
}
